{
 "cells": [
  {
   "cell_type": "code",
   "execution_count": 1,
   "metadata": {},
   "outputs": [
    {
     "name": "stderr",
     "output_type": "stream",
     "text": [
      "Using TensorFlow backend.\n"
     ]
    }
   ],
   "source": [
    "import pickle\n",
    "import numpy as np\n",
    "import pandas as pd\n",
    "import matplotlib.pyplot as plt\n",
    "import tensorflow as tf\n",
    "import keras\n",
    "from tensorflow.keras.models import Sequential\n",
    "from tensorflow.keras.layers import Dense\n",
    "from keras.utils import to_categorical\n",
    "from tensorflow.keras.layers import Conv2D\n",
    "from tensorflow.keras.layers import MaxPooling2D\n",
    "from tensorflow.keras.layers import Flatten\n",
    "from tensorflow.keras.layers import Dropout\n",
    "from tensorflow.keras.layers import BatchNormalization\n",
    "from tensorflow.keras.optimizers import SGD"
   ]
  },
  {
   "cell_type": "code",
   "execution_count": 2,
   "metadata": {},
   "outputs": [],
   "source": [
    "def unpickle(file):\n",
    "    with open(file, 'rb') as f:\n",
    "        dict = pickle.load(f, encoding=\"latin1\")\n",
    "    return dict"
   ]
  },
  {
   "cell_type": "code",
   "execution_count": 5,
   "metadata": {},
   "outputs": [
    {
     "data": {
      "text/plain": [
       "'/Users/nayansubba/Desktop/cifar10'"
      ]
     },
     "execution_count": 5,
     "metadata": {},
     "output_type": "execute_result"
    }
   ],
   "source": [
    "pwd"
   ]
  },
  {
   "cell_type": "code",
   "execution_count": 7,
   "metadata": {},
   "outputs": [],
   "source": [
    "datadict = unpickle('cifar_data/cifar-10-batches-py/test_batch')"
   ]
  },
  {
   "cell_type": "code",
   "execution_count": 8,
   "metadata": {},
   "outputs": [
    {
     "name": "stdout",
     "output_type": "stream",
     "text": [
      "(10000, 3072) (10000,)\n"
     ]
    }
   ],
   "source": [
    "X = datadict['data']\n",
    "Y = datadict['labels']\n",
    "print(np.shape(X), np.shape(Y))"
   ]
  },
  {
   "cell_type": "code",
   "execution_count": 9,
   "metadata": {},
   "outputs": [
    {
     "name": "stdout",
     "output_type": "stream",
     "text": [
      "['airplane', 'automobile', 'bird', 'cat', 'deer', 'dog', 'frog', 'horse', 'ship', 'truck']\n"
     ]
    }
   ],
   "source": [
    "labeldict = unpickle('cifar_data/cifar-10-batches-py/batches.meta')\n",
    "label_names = labeldict['label_names']\n",
    "print(label_names)"
   ]
  },
  {
   "cell_type": "code",
   "execution_count": 10,
   "metadata": {},
   "outputs": [
    {
     "name": "stdout",
     "output_type": "stream",
     "text": [
      "(10000, 3072) (10000,)\n"
     ]
    }
   ],
   "source": [
    "#test_data = X.reshape(10000,3,32,32).transpose(0,2,3,1)#.astype('uint8')\n",
    "test_data = np.array(X)\n",
    "test_labels = np.array(Y)\n",
    "print(test_data.shape, test_labels.shape)"
   ]
  },
  {
   "cell_type": "code",
   "execution_count": 12,
   "metadata": {},
   "outputs": [
    {
     "name": "stdout",
     "output_type": "stream",
     "text": [
      "(50000, 3072) (50000,)\n",
      "uint8\n"
     ]
    }
   ],
   "source": [
    "data, labels = [],[]\n",
    "for i in range(1,6):\n",
    "    filename = 'cifar_data/cifar-10-batches-py/data_batch_'+str(i)\n",
    "    open_data = unpickle(filename)\n",
    "    if len(data)>0:\n",
    "        data = np.vstack((data, open_data['data']))\n",
    "        labels = np.hstack((labels, open_data['labels']))\n",
    "    else:\n",
    "        data = open_data['data']\n",
    "        labels = open_data['labels']\n",
    "#train_data = data.reshape(50000,3,32,32).transpose(0,2,3,1)\n",
    "train_data = np.array(data)\n",
    "train_labels = np.array(labels)\n",
    "print(train_data.shape, train_labels.shape)\n",
    "print(train_data.dtype)"
   ]
  },
  {
   "cell_type": "code",
   "execution_count": 13,
   "metadata": {},
   "outputs": [
    {
     "name": "stdout",
     "output_type": "stream",
     "text": [
      "(50000, 10) (10000, 10)\n",
      "float32 float32\n"
     ]
    }
   ],
   "source": [
    "train_labels = to_categorical(train_labels) \n",
    "test_labels = to_categorical(test_labels)\n",
    "\n",
    "print(train_labels.shape, test_labels.shape)\n",
    "print(train_labels.dtype, test_labels.dtype)"
   ]
  },
  {
   "cell_type": "code",
   "execution_count": 14,
   "metadata": {},
   "outputs": [
    {
     "name": "stdout",
     "output_type": "stream",
     "text": [
      "(50000, 3072) (10000, 3072)\n",
      "float32 float32\n"
     ]
    }
   ],
   "source": [
    "train_data = train_data.astype('float32')\n",
    "train_data = train_data/255.0\n",
    "\n",
    "test_data = test_data.astype('float32')\n",
    "test_data = test_data/255.0\n",
    "\n",
    "print(train_data.shape, test_data.shape)\n",
    "print(train_data.dtype, test_data.dtype)"
   ]
  },
  {
   "cell_type": "markdown",
   "metadata": {},
   "source": [
    "### ONE LAYER BASELINE NEURAL NETWORK"
   ]
  },
  {
   "cell_type": "code",
   "execution_count": 15,
   "metadata": {},
   "outputs": [],
   "source": [
    "model = Sequential()"
   ]
  },
  {
   "cell_type": "code",
   "execution_count": 16,
   "metadata": {},
   "outputs": [],
   "source": [
    "model.add(Dense(5, input_dim=3072, activation='relu'))\n",
    "model.add(Dense(10, activation='sigmoid'))"
   ]
  },
  {
   "cell_type": "code",
   "execution_count": 17,
   "metadata": {},
   "outputs": [],
   "source": [
    "keras.optimizers.SGD(lr=0.01)\n",
    "model.compile(optimizer='sgd', loss='categorical_crossentropy', metrics=['accuracy'])"
   ]
  },
  {
   "cell_type": "code",
   "execution_count": 18,
   "metadata": {},
   "outputs": [
    {
     "name": "stdout",
     "output_type": "stream",
     "text": [
      "Train on 50000 samples, validate on 10000 samples\n",
      "Epoch 1/10\n",
      "50000/50000 [==============================] - 9s 171us/sample - loss: 2.2091 - accuracy: 0.1514 - val_loss: 2.1132 - val_accuracy: 0.1882\n",
      "Epoch 2/10\n",
      "50000/50000 [==============================] - 8s 160us/sample - loss: 2.0531 - accuracy: 0.2172 - val_loss: 2.0269 - val_accuracy: 0.2290\n",
      "Epoch 3/10\n",
      "50000/50000 [==============================] - 7s 149us/sample - loss: 1.9769 - accuracy: 0.2448 - val_loss: 1.9536 - val_accuracy: 0.2583\n",
      "Epoch 4/10\n",
      "50000/50000 [==============================] - 7s 146us/sample - loss: 1.9482 - accuracy: 0.2573 - val_loss: 1.9313 - val_accuracy: 0.2667\n",
      "Epoch 5/10\n",
      "50000/50000 [==============================] - 7s 146us/sample - loss: 1.9345 - accuracy: 0.2674 - val_loss: 1.9189 - val_accuracy: 0.2690\n",
      "Epoch 6/10\n",
      "50000/50000 [==============================] - 7s 144us/sample - loss: 1.9237 - accuracy: 0.2730 - val_loss: 1.9095 - val_accuracy: 0.2835\n",
      "Epoch 7/10\n",
      "50000/50000 [==============================] - 7s 146us/sample - loss: 1.9161 - accuracy: 0.2767 - val_loss: 1.9373 - val_accuracy: 0.2803\n",
      "Epoch 8/10\n",
      "50000/50000 [==============================] - 7s 145us/sample - loss: 1.9054 - accuracy: 0.2869 - val_loss: 1.9557 - val_accuracy: 0.2665\n",
      "Epoch 9/10\n",
      "50000/50000 [==============================] - 7s 143us/sample - loss: 1.8968 - accuracy: 0.2949 - val_loss: 1.8836 - val_accuracy: 0.3038\n",
      "Epoch 10/10\n",
      "50000/50000 [==============================] - 7s 150us/sample - loss: 1.8872 - accuracy: 0.3014 - val_loss: 1.8875 - val_accuracy: 0.2958\n"
     ]
    }
   ],
   "source": [
    "model_history = model.fit(train_data, train_labels, epochs=10, validation_data=(test_data, test_labels), verbose=1)"
   ]
  },
  {
   "cell_type": "code",
   "execution_count": 19,
   "metadata": {},
   "outputs": [],
   "source": [
    "train_data = data.reshape(50000,3,32,32).transpose(0,2,3,1)\n",
    "test_data = X.reshape(10000,3,32,32).transpose(0,2,3,1)"
   ]
  },
  {
   "cell_type": "code",
   "execution_count": 20,
   "metadata": {},
   "outputs": [],
   "source": [
    "train_data = train_data.astype('float32')\n",
    "train_data = train_data/255.0\n",
    "\n",
    "test_data = test_data.astype('float32')\n",
    "test_data = test_data/255.0"
   ]
  },
  {
   "cell_type": "markdown",
   "metadata": {},
   "source": [
    "### FULLY CONNECTED CNN\n",
    "VARIATION OF DROPOUT REGULARIZATION, INCREASING DROPOUT FROM 0.2 TO 0.3,0.4 AND 0.5. I FIND THIS METHOD EFFECTIVE FOR INCREASING ACCURACY. ALSO I ADDED BATCH NORMALIZATION, I THINK IT IS GOOD SOLUTION.\n"
   ]
  },
  {
   "cell_type": "code",
   "execution_count": 21,
   "metadata": {},
   "outputs": [],
   "source": [
    "def define_cnnModel():\n",
    "    model = Sequential()\n",
    "    model.add(Conv2D(32,(3,3), activation='relu', kernel_initializer='he_uniform', padding='same', input_shape=(32,32,3)))\n",
    "    model.add(BatchNormalization())\n",
    "    model.add(Conv2D(32,(3,3), activation='relu', kernel_initializer='he_uniform', padding='same'))\n",
    "    model.add(BatchNormalization())\n",
    "    model.add(MaxPooling2D((2,2)))\n",
    "    model.add(Dropout(0.2))\n",
    "    \n",
    "    model.add(Conv2D(64,(3,3), activation='relu', kernel_initializer='he_uniform', padding='same'))\n",
    "    model.add(BatchNormalization())\n",
    "    model.add(Conv2D(64,(3,3), activation='relu', kernel_initializer='he_uniform', padding='same'))\n",
    "    model.add(BatchNormalization())\n",
    "    model.add(MaxPooling2D((2,2)))\n",
    "    model.add(Dropout(0.3))\n",
    "    \n",
    "    model.add(Conv2D(128,(3,3), activation='relu', kernel_initializer='he_uniform', padding='same'))\n",
    "    model.add(BatchNormalization())\n",
    "    model.add(Conv2D(128,(3,3), activation='relu', kernel_initializer='he_uniform', padding='same'))\n",
    "    model.add(BatchNormalization())\n",
    "    model.add(MaxPooling2D((2,2)))\n",
    "    model.add(Dropout(0.4))\n",
    "    \n",
    "    model.add(Flatten())\n",
    "    model.add(Dense(128, activation='relu', kernel_initializer='he_uniform'))\n",
    "    model.add(BatchNormalization())\n",
    "    model.add(Dropout(0.5))\n",
    "    model.add(Dense(10, activation='sigmoid'))\n",
    "    \n",
    "    optimizer = SGD(lr=0.01) \n",
    "    model.compile(optimizer=optimizer, loss='categorical_crossentropy', metrics=['accuracy'])\n",
    "    return model"
   ]
  },
  {
   "cell_type": "code",
   "execution_count": 22,
   "metadata": {},
   "outputs": [],
   "source": [
    "model = define_cnnModel()"
   ]
  },
  {
   "cell_type": "code",
   "execution_count": 23,
   "metadata": {},
   "outputs": [
    {
     "name": "stdout",
     "output_type": "stream",
     "text": [
      "Train on 50000 samples, validate on 10000 samples\n",
      "Epoch 1/60\n",
      "50000/50000 [==============================] - 343s 7ms/sample - loss: 1.9184 - accuracy: 0.3016 - val_loss: 1.6956 - val_accuracy: 0.3872\n",
      "Epoch 2/60\n",
      "50000/50000 [==============================] - 324s 6ms/sample - loss: 1.7295 - accuracy: 0.3690 - val_loss: 1.6299 - val_accuracy: 0.4175\n",
      "Epoch 3/60\n",
      "50000/50000 [==============================] - 323s 6ms/sample - loss: 1.6412 - accuracy: 0.4002 - val_loss: 1.5331 - val_accuracy: 0.4460\n",
      "Epoch 4/60\n",
      "50000/50000 [==============================] - 330s 7ms/sample - loss: 1.5568 - accuracy: 0.4290 - val_loss: 1.5009 - val_accuracy: 0.4535\n",
      "Epoch 5/60\n",
      "50000/50000 [==============================] - 316s 6ms/sample - loss: 1.4768 - accuracy: 0.4573 - val_loss: 1.4172 - val_accuracy: 0.4681\n",
      "Epoch 6/60\n",
      "50000/50000 [==============================] - 319s 6ms/sample - loss: 1.3830 - accuracy: 0.4889 - val_loss: 1.3318 - val_accuracy: 0.4932\n",
      "Epoch 7/60\n",
      "50000/50000 [==============================] - 315s 6ms/sample - loss: 1.3099 - accuracy: 0.5201 - val_loss: 1.3322 - val_accuracy: 0.4892\n",
      "Epoch 8/60\n",
      "50000/50000 [==============================] - 316s 6ms/sample - loss: 1.2374 - accuracy: 0.5558 - val_loss: 1.2069 - val_accuracy: 0.5620\n",
      "Epoch 9/60\n",
      "50000/50000 [==============================] - 324s 6ms/sample - loss: 1.1530 - accuracy: 0.5918 - val_loss: 1.0153 - val_accuracy: 0.6293\n",
      "Epoch 10/60\n",
      "50000/50000 [==============================] - 319s 6ms/sample - loss: 1.0890 - accuracy: 0.6153 - val_loss: 0.9448 - val_accuracy: 0.6591\n",
      "Epoch 11/60\n",
      "50000/50000 [==============================] - 327s 7ms/sample - loss: 1.0363 - accuracy: 0.6359 - val_loss: 0.9380 - val_accuracy: 0.6626\n",
      "Epoch 12/60\n",
      "50000/50000 [==============================] - 330s 7ms/sample - loss: 0.9881 - accuracy: 0.6540 - val_loss: 0.9208 - val_accuracy: 0.6718\n",
      "Epoch 13/60\n",
      "50000/50000 [==============================] - 326s 7ms/sample - loss: 0.9467 - accuracy: 0.6693 - val_loss: 0.8820 - val_accuracy: 0.6813\n",
      "Epoch 14/60\n",
      "50000/50000 [==============================] - 326s 7ms/sample - loss: 0.9110 - accuracy: 0.6839 - val_loss: 0.8243 - val_accuracy: 0.7079\n",
      "Epoch 15/60\n",
      "50000/50000 [==============================] - 314s 6ms/sample - loss: 0.8829 - accuracy: 0.6941 - val_loss: 0.7915 - val_accuracy: 0.7211\n",
      "Epoch 16/60\n",
      "50000/50000 [==============================] - 296s 6ms/sample - loss: 0.8620 - accuracy: 0.6996 - val_loss: 0.8002 - val_accuracy: 0.7159\n",
      "Epoch 17/60\n",
      "50000/50000 [==============================] - 297s 6ms/sample - loss: 0.8309 - accuracy: 0.7090 - val_loss: 0.7300 - val_accuracy: 0.7418\n",
      "Epoch 18/60\n",
      "50000/50000 [==============================] - 298s 6ms/sample - loss: 0.8141 - accuracy: 0.7179 - val_loss: 0.7526 - val_accuracy: 0.7314\n",
      "Epoch 19/60\n",
      "50000/50000 [==============================] - 299s 6ms/sample - loss: 0.7914 - accuracy: 0.7247 - val_loss: 0.7194 - val_accuracy: 0.7464\n",
      "Epoch 20/60\n",
      "50000/50000 [==============================] - 296s 6ms/sample - loss: 0.7816 - accuracy: 0.7289 - val_loss: 0.6783 - val_accuracy: 0.7611\n",
      "Epoch 21/60\n",
      "50000/50000 [==============================] - 301s 6ms/sample - loss: 0.7573 - accuracy: 0.7380 - val_loss: 0.6643 - val_accuracy: 0.7715\n",
      "Epoch 22/60\n",
      "50000/50000 [==============================] - 296s 6ms/sample - loss: 0.7419 - accuracy: 0.7419 - val_loss: 0.6703 - val_accuracy: 0.7666\n",
      "Epoch 23/60\n",
      "50000/50000 [==============================] - 300s 6ms/sample - loss: 0.7256 - accuracy: 0.7501 - val_loss: 0.6406 - val_accuracy: 0.7759\n",
      "Epoch 24/60\n",
      "50000/50000 [==============================] - 297s 6ms/sample - loss: 0.7134 - accuracy: 0.7531 - val_loss: 0.6298 - val_accuracy: 0.7803\n",
      "Epoch 25/60\n",
      "50000/50000 [==============================] - 298s 6ms/sample - loss: 0.7017 - accuracy: 0.7582 - val_loss: 0.6374 - val_accuracy: 0.7806\n",
      "Epoch 26/60\n",
      "50000/50000 [==============================] - 299s 6ms/sample - loss: 0.6875 - accuracy: 0.7657 - val_loss: 0.6181 - val_accuracy: 0.7871\n",
      "Epoch 27/60\n",
      "50000/50000 [==============================] - 299s 6ms/sample - loss: 0.6708 - accuracy: 0.7680 - val_loss: 0.6429 - val_accuracy: 0.7808\n",
      "Epoch 28/60\n",
      "50000/50000 [==============================] - 299s 6ms/sample - loss: 0.6618 - accuracy: 0.7719 - val_loss: 0.5942 - val_accuracy: 0.7969\n",
      "Epoch 29/60\n",
      "50000/50000 [==============================] - 298s 6ms/sample - loss: 0.6507 - accuracy: 0.7765 - val_loss: 0.6526 - val_accuracy: 0.7759\n",
      "Epoch 30/60\n",
      "50000/50000 [==============================] - 299s 6ms/sample - loss: 0.6405 - accuracy: 0.7792 - val_loss: 0.5768 - val_accuracy: 0.8007\n",
      "Epoch 31/60\n",
      "50000/50000 [==============================] - 296s 6ms/sample - loss: 0.6304 - accuracy: 0.7826 - val_loss: 0.6285 - val_accuracy: 0.7866\n",
      "Epoch 32/60\n",
      "50000/50000 [==============================] - 299s 6ms/sample - loss: 0.6184 - accuracy: 0.7877 - val_loss: 0.6344 - val_accuracy: 0.7818\n",
      "Epoch 33/60\n",
      "50000/50000 [==============================] - 296s 6ms/sample - loss: 0.6141 - accuracy: 0.7903 - val_loss: 0.5426 - val_accuracy: 0.8140\n",
      "Epoch 34/60\n",
      "50000/50000 [==============================] - 297s 6ms/sample - loss: 0.6016 - accuracy: 0.7924 - val_loss: 0.5911 - val_accuracy: 0.7986\n",
      "Epoch 35/60\n",
      "50000/50000 [==============================] - 298s 6ms/sample - loss: 0.5901 - accuracy: 0.7965 - val_loss: 0.5522 - val_accuracy: 0.8110\n",
      "Epoch 36/60\n",
      "50000/50000 [==============================] - 298s 6ms/sample - loss: 0.5899 - accuracy: 0.7979 - val_loss: 0.5438 - val_accuracy: 0.8125\n",
      "Epoch 37/60\n",
      "50000/50000 [==============================] - 298s 6ms/sample - loss: 0.5735 - accuracy: 0.8032 - val_loss: 0.5354 - val_accuracy: 0.8200\n",
      "Epoch 38/60\n",
      "50000/50000 [==============================] - 297s 6ms/sample - loss: 0.5607 - accuracy: 0.8078 - val_loss: 0.5310 - val_accuracy: 0.8192\n",
      "Epoch 39/60\n",
      "50000/50000 [==============================] - 297s 6ms/sample - loss: 0.5558 - accuracy: 0.8101 - val_loss: 0.5381 - val_accuracy: 0.8183\n",
      "Epoch 40/60\n",
      "50000/50000 [==============================] - 300s 6ms/sample - loss: 0.5489 - accuracy: 0.8121 - val_loss: 0.5558 - val_accuracy: 0.8087\n",
      "Epoch 41/60\n",
      "50000/50000 [==============================] - 296s 6ms/sample - loss: 0.5439 - accuracy: 0.8147 - val_loss: 0.5666 - val_accuracy: 0.8046\n",
      "Epoch 42/60\n",
      "50000/50000 [==============================] - 300s 6ms/sample - loss: 0.5314 - accuracy: 0.8205 - val_loss: 0.5105 - val_accuracy: 0.8247\n",
      "Epoch 43/60\n",
      "50000/50000 [==============================] - 298s 6ms/sample - loss: 0.5305 - accuracy: 0.8188 - val_loss: 0.5498 - val_accuracy: 0.8177\n",
      "Epoch 44/60\n",
      "50000/50000 [==============================] - 298s 6ms/sample - loss: 0.5192 - accuracy: 0.8247 - val_loss: 0.5067 - val_accuracy: 0.8277\n",
      "Epoch 45/60\n",
      "50000/50000 [==============================] - 298s 6ms/sample - loss: 0.5166 - accuracy: 0.8234 - val_loss: 0.4974 - val_accuracy: 0.8346\n",
      "Epoch 46/60\n",
      "50000/50000 [==============================] - 299s 6ms/sample - loss: 0.5076 - accuracy: 0.8254 - val_loss: 0.4941 - val_accuracy: 0.8333\n",
      "Epoch 47/60\n",
      "50000/50000 [==============================] - 298s 6ms/sample - loss: 0.5049 - accuracy: 0.8269 - val_loss: 0.5036 - val_accuracy: 0.8326\n",
      "Epoch 48/60\n",
      "50000/50000 [==============================] - 301s 6ms/sample - loss: 0.4937 - accuracy: 0.8306 - val_loss: 0.5040 - val_accuracy: 0.8304\n",
      "Epoch 49/60\n",
      "50000/50000 [==============================] - 298s 6ms/sample - loss: 0.4842 - accuracy: 0.8343 - val_loss: 0.5074 - val_accuracy: 0.8321\n",
      "Epoch 50/60\n",
      "50000/50000 [==============================] - 298s 6ms/sample - loss: 0.4835 - accuracy: 0.8350 - val_loss: 0.5034 - val_accuracy: 0.8282\n",
      "Epoch 51/60\n",
      "50000/50000 [==============================] - 298s 6ms/sample - loss: 0.4780 - accuracy: 0.8356 - val_loss: 0.4879 - val_accuracy: 0.8346\n",
      "Epoch 52/60\n",
      "50000/50000 [==============================] - 301s 6ms/sample - loss: 0.4694 - accuracy: 0.8398 - val_loss: 0.4735 - val_accuracy: 0.8425\n",
      "Epoch 53/60\n",
      "50000/50000 [==============================] - 297s 6ms/sample - loss: 0.4655 - accuracy: 0.8403 - val_loss: 0.5042 - val_accuracy: 0.8313\n",
      "Epoch 54/60\n",
      "50000/50000 [==============================] - 300s 6ms/sample - loss: 0.4567 - accuracy: 0.8433 - val_loss: 0.4922 - val_accuracy: 0.8394\n",
      "Epoch 55/60\n",
      "50000/50000 [==============================] - 297s 6ms/sample - loss: 0.4461 - accuracy: 0.8474 - val_loss: 0.5307 - val_accuracy: 0.8273\n",
      "Epoch 56/60\n",
      "50000/50000 [==============================] - 300s 6ms/sample - loss: 0.4515 - accuracy: 0.8472 - val_loss: 0.4857 - val_accuracy: 0.8370\n",
      "Epoch 57/60\n",
      "50000/50000 [==============================] - 297s 6ms/sample - loss: 0.4458 - accuracy: 0.8471 - val_loss: 0.4791 - val_accuracy: 0.8416\n",
      "Epoch 58/60\n",
      "50000/50000 [==============================] - 300s 6ms/sample - loss: 0.4380 - accuracy: 0.8491 - val_loss: 0.4726 - val_accuracy: 0.8416\n",
      "Epoch 59/60\n",
      "50000/50000 [==============================] - 301s 6ms/sample - loss: 0.4330 - accuracy: 0.8504 - val_loss: 0.4687 - val_accuracy: 0.8452\n",
      "Epoch 60/60\n",
      "50000/50000 [==============================] - 299s 6ms/sample - loss: 0.4260 - accuracy: 0.8543 - val_loss: 0.4729 - val_accuracy: 0.8445\n"
     ]
    }
   ],
   "source": [
    "history = model.fit(train_data, train_labels, epochs=60, validation_data=(test_data, test_labels), verbose=1)"
   ]
  },
  {
   "cell_type": "code",
   "execution_count": 24,
   "metadata": {},
   "outputs": [
    {
     "name": "stdout",
     "output_type": "stream",
     "text": [
      "Model: \"sequential_1\"\n",
      "_________________________________________________________________\n",
      "Layer (type)                 Output Shape              Param #   \n",
      "=================================================================\n",
      "conv2d (Conv2D)              (None, 32, 32, 32)        896       \n",
      "_________________________________________________________________\n",
      "batch_normalization (BatchNo (None, 32, 32, 32)        128       \n",
      "_________________________________________________________________\n",
      "conv2d_1 (Conv2D)            (None, 32, 32, 32)        9248      \n",
      "_________________________________________________________________\n",
      "batch_normalization_1 (Batch (None, 32, 32, 32)        128       \n",
      "_________________________________________________________________\n",
      "max_pooling2d (MaxPooling2D) (None, 16, 16, 32)        0         \n",
      "_________________________________________________________________\n",
      "dropout (Dropout)            (None, 16, 16, 32)        0         \n",
      "_________________________________________________________________\n",
      "conv2d_2 (Conv2D)            (None, 16, 16, 64)        18496     \n",
      "_________________________________________________________________\n",
      "batch_normalization_2 (Batch (None, 16, 16, 64)        256       \n",
      "_________________________________________________________________\n",
      "conv2d_3 (Conv2D)            (None, 16, 16, 64)        36928     \n",
      "_________________________________________________________________\n",
      "batch_normalization_3 (Batch (None, 16, 16, 64)        256       \n",
      "_________________________________________________________________\n",
      "max_pooling2d_1 (MaxPooling2 (None, 8, 8, 64)          0         \n",
      "_________________________________________________________________\n",
      "dropout_1 (Dropout)          (None, 8, 8, 64)          0         \n",
      "_________________________________________________________________\n",
      "conv2d_4 (Conv2D)            (None, 8, 8, 128)         73856     \n",
      "_________________________________________________________________\n",
      "batch_normalization_4 (Batch (None, 8, 8, 128)         512       \n",
      "_________________________________________________________________\n",
      "conv2d_5 (Conv2D)            (None, 8, 8, 128)         147584    \n",
      "_________________________________________________________________\n",
      "batch_normalization_5 (Batch (None, 8, 8, 128)         512       \n",
      "_________________________________________________________________\n",
      "max_pooling2d_2 (MaxPooling2 (None, 4, 4, 128)         0         \n",
      "_________________________________________________________________\n",
      "dropout_2 (Dropout)          (None, 4, 4, 128)         0         \n",
      "_________________________________________________________________\n",
      "flatten (Flatten)            (None, 2048)              0         \n",
      "_________________________________________________________________\n",
      "dense_2 (Dense)              (None, 128)               262272    \n",
      "_________________________________________________________________\n",
      "batch_normalization_6 (Batch (None, 128)               512       \n",
      "_________________________________________________________________\n",
      "dropout_3 (Dropout)          (None, 128)               0         \n",
      "_________________________________________________________________\n",
      "dense_3 (Dense)              (None, 10)                1290      \n",
      "=================================================================\n",
      "Total params: 552,874\n",
      "Trainable params: 551,722\n",
      "Non-trainable params: 1,152\n",
      "_________________________________________________________________\n"
     ]
    }
   ],
   "source": [
    "model.summary()"
   ]
  },
  {
   "cell_type": "code",
   "execution_count": 25,
   "metadata": {},
   "outputs": [
    {
     "name": "stdout",
     "output_type": "stream",
     "text": [
      "[0.47285093541145323, 0.8445]\n"
     ]
    }
   ],
   "source": [
    "acc = model.evaluate(test_data, test_labels,  verbose=0)\n",
    "print(acc)"
   ]
  },
  {
   "cell_type": "code",
   "execution_count": 26,
   "metadata": {},
   "outputs": [
    {
     "data": {
      "text/plain": [
       "<AxesSubplot:>"
      ]
     },
     "execution_count": 26,
     "metadata": {},
     "output_type": "execute_result"
    },
    {
     "data": {
      "image/png": "[encoded data removed]",
      "text/plain": [
       "<Figure size 432x288 with 1 Axes>"
      ]
     },
     "metadata": {
      "needs_background": "light"
     },
     "output_type": "display_data"
    }
   ],
   "source": [
    "model_loss = pd.DataFrame(model.history.history)\n",
    "model_loss.plot()"
   ]
  },
  {
   "cell_type": "code",
   "execution_count": 27,
   "metadata": {},
   "outputs": [
    {
     "data": {
      "text/plain": [
       "Text(0, 0.5, 'Accuracy')"
      ]
     },
     "execution_count": 27,
     "metadata": {},
     "output_type": "execute_result"
    },
    {
     "data": {
      "image/png": "[encoded data removed]",
      "text/plain": [
       "<Figure size 432x288 with 1 Axes>"
      ]
     },
     "metadata": {
      "needs_background": "light"
     },
     "output_type": "display_data"
    }
   ],
   "source": [
    "plt.plot(history.history['accuracy'], label='accuracy')\n",
    "plt.plot(history.history['val_accuracy'], label='val_accuracy')\n",
    "plt.xlabel('Epochs')\n",
    "plt.ylabel('Accuracy')"
   ]
  },
  {
   "cell_type": "code",
   "execution_count": null,
   "metadata": {},
   "outputs": [],
   "source": []
  }
 ],
 "metadata": {
  "kernelspec": {
   "display_name": "Python 3",
   "language": "python",
   "name": "python3"
  },
  "language_info": {
   "codemirror_mode": {
    "name": "ipython",
    "version": 3
   },
   "file_extension": ".py",
   "mimetype": "text/x-python",
   "name": "python",
   "nbconvert_exporter": "python",
   "pygments_lexer": "ipython3",
   "version": "3.7.9"
  }
 },
 "nbformat": 4,
 "nbformat_minor": 4
}
